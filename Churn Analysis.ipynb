{
 "cells": [
  {
   "cell_type": "markdown",
   "id": "ecd7704d-92ca-469c-8971-a9e6972fe957",
   "metadata": {},
   "source": [
    "#### Importing Libraries & Data Load\n"
   ]
  },
  {
   "cell_type": "code",
   "execution_count": 25,
   "id": "5e6ad0b3-1b0d-4c93-a2c5-f3dfe2dead67",
   "metadata": {
    "scrolled": true
   },
   "outputs": [],
   "source": [
    "import pandas as pd\n",
    "import numpy as np\n",
    "import matplotlib.pyplot as plt\n",
    "import seaborn as sns\n",
    "from sklearn.model_selection import train_test_split\n",
    "from sklearn.ensemble import RandomForestClassifier\n",
    "from sklearn.metrics import classification_report, confusion_matrix\n",
    "from sklearn.preprocessing import LabelEncoder\n",
    "import joblib\n"
   ]
  },
  {
   "cell_type": "code",
   "execution_count": 6,
   "id": "be6e5c4b-1fc4-4a7b-aa94-90590877a1d0",
   "metadata": {},
   "outputs": [
    {
     "name": "stdout",
     "output_type": "stream",
     "text": [
      "Requirement already satisfied: openpyxl in c:\\users\\admin\\appdata\\local\\programs\\python\\python38\\lib\\site-packages (3.1.5)\n",
      "Requirement already satisfied: et-xmlfile in c:\\users\\admin\\appdata\\local\\programs\\python\\python38\\lib\\site-packages (from openpyxl) (1.1.0)\n"
     ]
    }
   ],
   "source": [
    "# The 'openpyxl' library is needed to read and write Excel files (.xlsx format) using pandas.\n",
    "\n",
    "!pip install openpyxl"
   ]
  },
  {
   "cell_type": "code",
   "execution_count": 40,
   "id": "29ce97d5-bcb3-4086-b44c-016e0082e1db",
   "metadata": {},
   "outputs": [],
   "source": [
    "# Define the path to the Excel file\n",
    "\n",
    "file_path = r'C:\\Users\\ADMIN\\OneDrive\\Desktop\\Customer_churn\\Customer_churn\\Data & Resources\\Churn_Prediction_Data.xlsx'"
   ]
  },
  {
   "cell_type": "code",
   "execution_count": 41,
   "id": "8f23a984-c749-46c1-b22b-5d93efb20cef",
   "metadata": {},
   "outputs": [],
   "source": [
    "# Define the sheet name to read datafrom\n",
    "sheet_name = 'vw_ChurnData'"
   ]
  },
  {
   "cell_type": "code",
   "execution_count": 42,
   "id": "c870903c-45e3-4822-8c19-bb6c20e45501",
   "metadata": {},
   "outputs": [
    {
     "data": {
      "text/html": [
       "<div>\n",
       "<style scoped>\n",
       "    .dataframe tbody tr th:only-of-type {\n",
       "        vertical-align: middle;\n",
       "    }\n",
       "\n",
       "    .dataframe tbody tr th {\n",
       "        vertical-align: top;\n",
       "    }\n",
       "\n",
       "    .dataframe thead th {\n",
       "        text-align: right;\n",
       "    }\n",
       "</style>\n",
       "<table border=\"1\" class=\"dataframe\">\n",
       "  <thead>\n",
       "    <tr style=\"text-align: right;\">\n",
       "      <th></th>\n",
       "      <th>Customer_ID</th>\n",
       "      <th>Gender</th>\n",
       "      <th>Age</th>\n",
       "      <th>Married</th>\n",
       "      <th>State</th>\n",
       "      <th>Number_of_Referrals</th>\n",
       "      <th>Tenure_in_Months</th>\n",
       "      <th>Value_Deal</th>\n",
       "      <th>Phone_Service</th>\n",
       "      <th>Multiple_Lines</th>\n",
       "      <th>...</th>\n",
       "      <th>Payment_Method</th>\n",
       "      <th>Monthly_Charge</th>\n",
       "      <th>Total_Charges</th>\n",
       "      <th>Total_Refunds</th>\n",
       "      <th>Total_Extra_Data_Charges</th>\n",
       "      <th>Total_Long_Distance_Charges</th>\n",
       "      <th>Total_Revenue</th>\n",
       "      <th>Customer_Status</th>\n",
       "      <th>Churn_Category</th>\n",
       "      <th>Churn_Reason</th>\n",
       "    </tr>\n",
       "  </thead>\n",
       "  <tbody>\n",
       "    <tr>\n",
       "      <th>0</th>\n",
       "      <td>12210-AND</td>\n",
       "      <td>Male</td>\n",
       "      <td>66</td>\n",
       "      <td>No</td>\n",
       "      <td>Andhra Pradesh</td>\n",
       "      <td>9</td>\n",
       "      <td>31</td>\n",
       "      <td>NaN</td>\n",
       "      <td>No</td>\n",
       "      <td>No</td>\n",
       "      <td>...</td>\n",
       "      <td>Credit Card</td>\n",
       "      <td>34.299999</td>\n",
       "      <td>577.150024</td>\n",
       "      <td>0.0</td>\n",
       "      <td>0</td>\n",
       "      <td>0.0</td>\n",
       "      <td>577.150024</td>\n",
       "      <td>Stayed</td>\n",
       "      <td>Others</td>\n",
       "      <td>Others</td>\n",
       "    </tr>\n",
       "    <tr>\n",
       "      <th>1</th>\n",
       "      <td>12531-AND</td>\n",
       "      <td>Male</td>\n",
       "      <td>56</td>\n",
       "      <td>No</td>\n",
       "      <td>Andhra Pradesh</td>\n",
       "      <td>1</td>\n",
       "      <td>12</td>\n",
       "      <td>NaN</td>\n",
       "      <td>No</td>\n",
       "      <td>No</td>\n",
       "      <td>...</td>\n",
       "      <td>Bank Withdrawal</td>\n",
       "      <td>62.500000</td>\n",
       "      <td>4136.399902</td>\n",
       "      <td>0.0</td>\n",
       "      <td>0</td>\n",
       "      <td>0.0</td>\n",
       "      <td>4136.399902</td>\n",
       "      <td>Stayed</td>\n",
       "      <td>Others</td>\n",
       "      <td>Others</td>\n",
       "    </tr>\n",
       "    <tr>\n",
       "      <th>2</th>\n",
       "      <td>13500-BIH</td>\n",
       "      <td>Male</td>\n",
       "      <td>51</td>\n",
       "      <td>No</td>\n",
       "      <td>Bihar</td>\n",
       "      <td>9</td>\n",
       "      <td>18</td>\n",
       "      <td>NaN</td>\n",
       "      <td>No</td>\n",
       "      <td>No</td>\n",
       "      <td>...</td>\n",
       "      <td>Credit Card</td>\n",
       "      <td>56.400002</td>\n",
       "      <td>2928.500000</td>\n",
       "      <td>0.0</td>\n",
       "      <td>0</td>\n",
       "      <td>0.0</td>\n",
       "      <td>2928.500000</td>\n",
       "      <td>Stayed</td>\n",
       "      <td>Others</td>\n",
       "      <td>Others</td>\n",
       "    </tr>\n",
       "  </tbody>\n",
       "</table>\n",
       "<p>3 rows × 32 columns</p>\n",
       "</div>"
      ],
      "text/plain": [
       "  Customer_ID Gender  Age Married           State  Number_of_Referrals  \\\n",
       "0   12210-AND   Male   66      No  Andhra Pradesh                    9   \n",
       "1   12531-AND   Male   56      No  Andhra Pradesh                    1   \n",
       "2   13500-BIH   Male   51      No           Bihar                    9   \n",
       "\n",
       "   Tenure_in_Months Value_Deal Phone_Service Multiple_Lines  ...  \\\n",
       "0                31        NaN            No             No  ...   \n",
       "1                12        NaN            No             No  ...   \n",
       "2                18        NaN            No             No  ...   \n",
       "\n",
       "    Payment_Method Monthly_Charge Total_Charges Total_Refunds  \\\n",
       "0      Credit Card      34.299999    577.150024           0.0   \n",
       "1  Bank Withdrawal      62.500000   4136.399902           0.0   \n",
       "2      Credit Card      56.400002   2928.500000           0.0   \n",
       "\n",
       "  Total_Extra_Data_Charges Total_Long_Distance_Charges Total_Revenue  \\\n",
       "0                        0                         0.0    577.150024   \n",
       "1                        0                         0.0   4136.399902   \n",
       "2                        0                         0.0   2928.500000   \n",
       "\n",
       "  Customer_Status Churn_Category Churn_Reason  \n",
       "0          Stayed         Others       Others  \n",
       "1          Stayed         Others       Others  \n",
       "2          Stayed         Others       Others  \n",
       "\n",
       "[3 rows x 32 columns]"
      ]
     },
     "execution_count": 42,
     "metadata": {},
     "output_type": "execute_result"
    }
   ],
   "source": [
    "# Read the data from the specified sheet into a pandas DataFrame\n",
    "data = pd.read_excel(file_path, sheet_name = sheet_name)\n",
    "data.head(3)"
   ]
  },
  {
   "cell_type": "markdown",
   "id": "64a484f9-cfa0-4088-b170-74e403fd90ed",
   "metadata": {},
   "source": [
    "#### Data Preprocessing"
   ]
  },
  {
   "cell_type": "markdown",
   "id": "4bb239d7-ea69-49c4-b9ca-4ba97c908aa7",
   "metadata": {},
   "source": [
    "##### Drop columns that won't be used for prediction"
   ]
  },
  {
   "cell_type": "code",
   "execution_count": 43,
   "id": "c5af2a79-611d-4e78-9637-fd0a85787cd0",
   "metadata": {},
   "outputs": [],
   "source": [
    "data = data.drop(['Customer_ID', 'Churn_Category', 'Churn_Reason'], axis=1)"
   ]
  },
  {
   "cell_type": "markdown",
   "id": "1708f5cd-cdb0-4ce3-8569-451eb531b3ea",
   "metadata": {},
   "source": [
    "#####  List of columns to be label encoded"
   ]
  },
  {
   "cell_type": "code",
   "execution_count": 44,
   "id": "3607fc52-1845-4245-95c1-925697b37579",
   "metadata": {},
   "outputs": [],
   "source": [
    "columns_to_encode = [\n",
    "    'Gender', 'Married', 'State', 'Value_Deal', 'Phone_Service', 'Multiple_Lines', 'Internet_Service', 'Internet_Type', 'Online_Security', 'Online_Backup','Device_Protection_Plan', 'Premium_Support', 'Streaming_TV', 'Streaming_Movies',\n",
    "'Streaming_Music', 'Unlimited_Data', 'Contract', 'Paperless_Billing','Payment_Method'\n",
    "]\n",
    "\n",
    "# Encode categorical variables except the target variable\n",
    "\n",
    "label_encoders = {}\n",
    "\n",
    "for column in columns_to_encode:\n",
    "\n",
    "    label_encoders[column] = LabelEncoder()\n",
    "\n",
    "    data[column] = label_encoders[column].fit_transform(data[column])\n",
    "\n",
    " \n",
    "\n",
    "# Manually encode the target variable 'Customer_Status'\n",
    "\n",
    "data['Customer_Status'] = data['Customer_Status'].map({'Stayed': 0, 'Churned': 1})\n",
    "\n",
    " \n",
    "\n",
    "# Split data into features and target\n",
    "\n",
    "X = data.drop('Customer_Status', axis=1)\n",
    "\n",
    "y = data['Customer_Status']\n",
    "\n",
    " \n",
    "\n",
    "# Split data into training and testing sets\n",
    "\n",
    "X_train, X_test, y_train, y_test = train_test_split(X, y, test_size=0.2, random_state=42)"
   ]
  },
  {
   "cell_type": "markdown",
   "id": "5085684c-f3ef-47c3-a13e-286426d1daa1",
   "metadata": {},
   "source": [
    "##### Train Random Forest Model\n"
   ]
  },
  {
   "cell_type": "code",
   "execution_count": 45,
   "id": "64377261-f394-456d-b7e2-620888ff95bd",
   "metadata": {},
   "outputs": [
    {
     "data": {
      "text/html": [
       "<style>#sk-container-id-1 {color: black;}#sk-container-id-1 pre{padding: 0;}#sk-container-id-1 div.sk-toggleable {background-color: white;}#sk-container-id-1 label.sk-toggleable__label {cursor: pointer;display: block;width: 100%;margin-bottom: 0;padding: 0.3em;box-sizing: border-box;text-align: center;}#sk-container-id-1 label.sk-toggleable__label-arrow:before {content: \"▸\";float: left;margin-right: 0.25em;color: #696969;}#sk-container-id-1 label.sk-toggleable__label-arrow:hover:before {color: black;}#sk-container-id-1 div.sk-estimator:hover label.sk-toggleable__label-arrow:before {color: black;}#sk-container-id-1 div.sk-toggleable__content {max-height: 0;max-width: 0;overflow: hidden;text-align: left;background-color: #f0f8ff;}#sk-container-id-1 div.sk-toggleable__content pre {margin: 0.2em;color: black;border-radius: 0.25em;background-color: #f0f8ff;}#sk-container-id-1 input.sk-toggleable__control:checked~div.sk-toggleable__content {max-height: 200px;max-width: 100%;overflow: auto;}#sk-container-id-1 input.sk-toggleable__control:checked~label.sk-toggleable__label-arrow:before {content: \"▾\";}#sk-container-id-1 div.sk-estimator input.sk-toggleable__control:checked~label.sk-toggleable__label {background-color: #d4ebff;}#sk-container-id-1 div.sk-label input.sk-toggleable__control:checked~label.sk-toggleable__label {background-color: #d4ebff;}#sk-container-id-1 input.sk-hidden--visually {border: 0;clip: rect(1px 1px 1px 1px);clip: rect(1px, 1px, 1px, 1px);height: 1px;margin: -1px;overflow: hidden;padding: 0;position: absolute;width: 1px;}#sk-container-id-1 div.sk-estimator {font-family: monospace;background-color: #f0f8ff;border: 1px dotted black;border-radius: 0.25em;box-sizing: border-box;margin-bottom: 0.5em;}#sk-container-id-1 div.sk-estimator:hover {background-color: #d4ebff;}#sk-container-id-1 div.sk-parallel-item::after {content: \"\";width: 100%;border-bottom: 1px solid gray;flex-grow: 1;}#sk-container-id-1 div.sk-label:hover label.sk-toggleable__label {background-color: #d4ebff;}#sk-container-id-1 div.sk-serial::before {content: \"\";position: absolute;border-left: 1px solid gray;box-sizing: border-box;top: 0;bottom: 0;left: 50%;z-index: 0;}#sk-container-id-1 div.sk-serial {display: flex;flex-direction: column;align-items: center;background-color: white;padding-right: 0.2em;padding-left: 0.2em;position: relative;}#sk-container-id-1 div.sk-item {position: relative;z-index: 1;}#sk-container-id-1 div.sk-parallel {display: flex;align-items: stretch;justify-content: center;background-color: white;position: relative;}#sk-container-id-1 div.sk-item::before, #sk-container-id-1 div.sk-parallel-item::before {content: \"\";position: absolute;border-left: 1px solid gray;box-sizing: border-box;top: 0;bottom: 0;left: 50%;z-index: -1;}#sk-container-id-1 div.sk-parallel-item {display: flex;flex-direction: column;z-index: 1;position: relative;background-color: white;}#sk-container-id-1 div.sk-parallel-item:first-child::after {align-self: flex-end;width: 50%;}#sk-container-id-1 div.sk-parallel-item:last-child::after {align-self: flex-start;width: 50%;}#sk-container-id-1 div.sk-parallel-item:only-child::after {width: 0;}#sk-container-id-1 div.sk-dashed-wrapped {border: 1px dashed gray;margin: 0 0.4em 0.5em 0.4em;box-sizing: border-box;padding-bottom: 0.4em;background-color: white;}#sk-container-id-1 div.sk-label label {font-family: monospace;font-weight: bold;display: inline-block;line-height: 1.2em;}#sk-container-id-1 div.sk-label-container {text-align: center;}#sk-container-id-1 div.sk-container {/* jupyter's `normalize.less` sets `[hidden] { display: none; }` but bootstrap.min.css set `[hidden] { display: none !important; }` so we also need the `!important` here to be able to override the default hidden behavior on the sphinx rendered scikit-learn.org. See: https://github.com/scikit-learn/scikit-learn/issues/21755 */display: inline-block !important;position: relative;}#sk-container-id-1 div.sk-text-repr-fallback {display: none;}</style><div id=\"sk-container-id-1\" class=\"sk-top-container\"><div class=\"sk-text-repr-fallback\"><pre>RandomForestClassifier(random_state=42)</pre><b>In a Jupyter environment, please rerun this cell to show the HTML representation or trust the notebook. <br />On GitHub, the HTML representation is unable to render, please try loading this page with nbviewer.org.</b></div><div class=\"sk-container\" hidden><div class=\"sk-item\"><div class=\"sk-estimator sk-toggleable\"><input class=\"sk-toggleable__control sk-hidden--visually\" id=\"sk-estimator-id-1\" type=\"checkbox\" checked><label for=\"sk-estimator-id-1\" class=\"sk-toggleable__label sk-toggleable__label-arrow\">RandomForestClassifier</label><div class=\"sk-toggleable__content\"><pre>RandomForestClassifier(random_state=42)</pre></div></div></div></div></div>"
      ],
      "text/plain": [
       "RandomForestClassifier(random_state=42)"
      ]
     },
     "execution_count": 45,
     "metadata": {},
     "output_type": "execute_result"
    }
   ],
   "source": [
    "# Initialize the Random Forest Classifier\n",
    "\n",
    "rf_model = RandomForestClassifier(n_estimators=100, random_state=42)\n",
    "\n",
    "# Train the model\n",
    "\n",
    "rf_model.fit(X_train, y_train)"
   ]
  },
  {
   "cell_type": "markdown",
   "id": "742d1d49-32fc-4ccd-bb50-0b3ad9013aad",
   "metadata": {},
   "source": [
    "#"
   ]
  },
  {
   "cell_type": "markdown",
   "id": "cf3efdaa-2be1-4539-bbac-1ddea5cff5e0",
   "metadata": {},
   "source": [
    "##### Evaluate Model"
   ]
  },
  {
   "cell_type": "code",
   "execution_count": 46,
   "id": "6b491fbf-3b26-4b8b-8c18-5a3c3f08ad5a",
   "metadata": {},
   "outputs": [
    {
     "name": "stdout",
     "output_type": "stream",
     "text": [
      "Confusion Matrix:\n",
      "[[813  49]\n",
      " [141 199]]\n",
      "\n",
      "Classification Report:\n",
      "              precision    recall  f1-score   support\n",
      "\n",
      "           0       0.85      0.94      0.90       862\n",
      "           1       0.80      0.59      0.68       340\n",
      "\n",
      "    accuracy                           0.84      1202\n",
      "   macro avg       0.83      0.76      0.79      1202\n",
      "weighted avg       0.84      0.84      0.83      1202\n",
      "\n"
     ]
    },
    {
     "data": {
      "image/png": "[encoded data removed]",
      "text/plain": [
       "<Figure size 1500x600 with 1 Axes>"
      ]
     },
     "metadata": {},
     "output_type": "display_data"
    }
   ],
   "source": [
    "# Make predictions\n",
    "\n",
    "y_pred = rf_model.predict(X_test)\n",
    "\n",
    " \n",
    "\n",
    "# Evaluate the model\n",
    "\n",
    "print(\"Confusion Matrix:\")\n",
    "\n",
    "print(confusion_matrix(y_test, y_pred))\n",
    "\n",
    "print(\"\\nClassification Report:\")\n",
    "\n",
    "print(classification_report(y_test, y_pred))\n",
    "\n",
    " \n",
    "\n",
    "# Feature Selection using Feature Importance\n",
    "\n",
    "importances = rf_model.feature_importances_\n",
    "\n",
    "indices = np.argsort(importances)[::-1]\n",
    "\n",
    " \n",
    "\n",
    "# Plot the feature importances\n",
    "\n",
    "plt.figure(figsize=(15, 6))\n",
    "\n",
    "sns.barplot(x=importances[indices], y=X.columns[indices])\n",
    "\n",
    "plt.title('Feature Importances')\n",
    "\n",
    "plt.xlabel('Relative Importance')\n",
    "\n",
    "plt.ylabel('Feature Names')\n",
    "\n",
    "plt.show()\n",
    "\n",
    " "
   ]
  },
  {
   "cell_type": "markdown",
   "id": "fe6e84f5-adcf-426e-8bec-32c0ab84534b",
   "metadata": {},
   "source": [
    "#"
   ]
  },
  {
   "cell_type": "markdown",
   "id": "d5853379-2fea-466b-a634-1ffcfc94146a",
   "metadata": {},
   "source": [
    "##### Use Model for Prediction on New Data"
   ]
  },
  {
   "cell_type": "code",
   "execution_count": 48,
   "id": "7ff1739d-5bb4-4c69-bca3-c021f3b0d6d9",
   "metadata": {},
   "outputs": [
    {
     "name": "stdout",
     "output_type": "stream",
     "text": [
      "  Customer_ID  Gender  Age Married          State  Number_of_Referrals  \\\n",
      "0   12257-ASS  Female   39      No          Assam                    9   \n",
      "1   13946-HAR  Female   41     Yes        Haryana                    1   \n",
      "2   14567-TAM    Male   43      No     Tamil Nadu                    1   \n",
      "3   15591-KAR  Female   26      No      Karnataka                    3   \n",
      "4   15803-UTT  Female   34      No  Uttar Pradesh                    6   \n",
      "\n",
      "   Tenure_in_Months Value_Deal Phone_Service Multiple_Lines  ...  \\\n",
      "0                 1        NaN           Yes             No  ...   \n",
      "1                 3     Deal 5           Yes             No  ...   \n",
      "2                 9        NaN           Yes             No  ...   \n",
      "3                31        NaN           Yes             No  ...   \n",
      "4                31        NaN           Yes             No  ...   \n",
      "\n",
      "  Payment_Method Monthly_Charge Total_Charges Total_Refunds  \\\n",
      "0    Credit Card      19.549999     19.549999           0.0   \n",
      "1    Credit Card      19.650000     19.650000           0.0   \n",
      "2    Credit Card      20.350000     20.350000           0.0   \n",
      "3    Credit Card      20.400000     20.400000           0.0   \n",
      "4    Credit Card      19.150000     19.150000           0.0   \n",
      "\n",
      "  Total_Extra_Data_Charges Total_Long_Distance_Charges Total_Revenue  \\\n",
      "0                        0                   10.200000     29.750000   \n",
      "1                        0                   23.670000     43.320000   \n",
      "2                        0                   44.090000     64.440002   \n",
      "3                        0                   45.910000     66.309998   \n",
      "4                        0                   22.370001     41.520000   \n",
      "\n",
      "  Customer_Status Churn_Category Churn_Reason  \n",
      "0          Joined         Others       Others  \n",
      "1          Joined         Others       Others  \n",
      "2          Joined         Others       Others  \n",
      "3          Joined         Others       Others  \n",
      "4          Joined         Others       Others  \n",
      "\n",
      "[5 rows x 32 columns]\n"
     ]
    }
   ],
   "source": [
    "# Define the path to the Joiner Data Excel file\n",
    "\n",
    "file_path = r'C:\\\\Users\\\\ADMIN\\\\OneDrive\\\\Desktop\\\\Customer_churn\\\\Customer_churn\\\\Data & Resources\\\\Churn_Prediction_Data.xlsx'\n",
    "\n",
    " \n",
    "# Define the sheet name to read data from\n",
    "\n",
    "sheet_name = 'vw_JoinData'\n",
    " \n",
    "\n",
    "# Read the data from the specified sheet into a pandas DataFrame\n",
    "\n",
    "new_data = pd.read_excel(file_path, sheet_name=sheet_name)\n",
    "\n",
    " \n",
    "# Display the first few rows of the fetched data\n",
    "\n",
    "print(new_data.head())\n",
    "\n",
    " \n",
    "# Retain the original DataFrame to preserve unencoded columns\n",
    "\n",
    "original_data = new_data.copy()\n",
    "\n",
    " \n",
    "# Retain the Customer_ID column\n",
    "\n",
    "customer_ids = new_data['Customer_ID']\n",
    "\n",
    " \n",
    "# Drop columns that won't be used for prediction in the encoded DataFrame\n",
    "\n",
    "new_data = new_data.drop(['Customer_ID', 'Customer_Status', 'Churn_Category', 'Churn_Reason'], axis=1)\n",
    "\n",
    " \n",
    "# Encode categorical variables using the saved label encoders\n",
    "\n",
    "for column in new_data.select_dtypes(include=['object']).columns:\n",
    "\n",
    "    new_data[column] = label_encoders[column].transform(new_data[column])\n",
    "\n",
    " \n",
    "# Make predictions\n",
    "\n",
    "new_predictions = rf_model.predict(new_data)\n",
    "\n",
    " \n",
    "# Add predictions to the original DataFrame\n",
    "\n",
    "original_data['Customer_Status_Predicted'] = new_predictions\n",
    "\n",
    " \n",
    "# Filter the DataFrame to include only records predicted as \"Churned\"\n",
    "\n",
    "original_data = original_data[original_data['Customer_Status_Predicted'] == 1]\n",
    "\n",
    " \n",
    "# Save the results\n",
    "\n",
    "original_data.to_csv(r\"C:\\Users\\ADMIN\\OneDrive\\Desktop\\Customer_churn\\Customer_churn\\Data & Resources.csv\", index=False)"
   ]
  },
  {
   "cell_type": "code",
   "execution_count": null,
   "id": "2d213bb6-3024-4d27-b72f-5a08501750a5",
   "metadata": {},
   "outputs": [],
   "source": []
  }
 ],
 "metadata": {
  "kernelspec": {
   "display_name": "Python 3 (ipykernel)",
   "language": "python",
   "name": "python3"
  },
  "language_info": {
   "codemirror_mode": {
    "name": "ipython",
    "version": 3
   },
   "file_extension": ".py",
   "mimetype": "text/x-python",
   "name": "python",
   "nbconvert_exporter": "python",
   "pygments_lexer": "ipython3",
   "version": "3.8.10"
  }
 },
 "nbformat": 4,
 "nbformat_minor": 5
}
